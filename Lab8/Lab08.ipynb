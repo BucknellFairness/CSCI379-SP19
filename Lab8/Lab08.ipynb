{
 "cells": [
  {
   "cell_type": "markdown",
   "metadata": {},
   "source": [
    "# Lab 8: April 2,\n",
    "# Randomized Response \n",
    "### Due April 9, 2019"
   ]
  },
  {
   "cell_type": "markdown",
   "metadata": {},
   "source": [
    "In this lab, you will gain more of a hands-on familiarity with Warner's Randomized Response, and tinker with different parameters of this protocol to see their impact on \"accuracy\"."
   ]
  },
  {
   "cell_type": "code",
   "execution_count": null,
   "metadata": {
    "collapsed": true
   },
   "outputs": [],
   "source": [
    "# some basic modules\n",
    "import matplotlib.pyplot as plt\n",
    "import numpy as np\n",
    "%matplotlib inline\n",
    "import seaborn as sns"
   ]
  },
  {
   "cell_type": "markdown",
   "metadata": {},
   "source": [
    "###  **Bernoulli Random Variables, The Basics**\n",
    "\n",
    "In this section, we'll go over the conceptual basics of a Bernoulli random variable (and random variables and probability distributions, in general)."
   ]
  },
  {
   "cell_type": "markdown",
   "metadata": {},
   "source": [
    "**Question 1: ** What is a Random Variable? (Write your answer below).\n",
    "\n",
    "** Answer 1: **"
   ]
  },
  {
   "cell_type": "markdown",
   "metadata": {},
   "source": [
    "**Question 2:** What is a Bernoulli Random Variable?"
   ]
  },
  {
   "cell_type": "markdown",
   "metadata": {},
   "source": [
    "**Question 3:** Consider a Bernoulli Random Variable $X$, and  a function of this random variable: $$f(X) = X^2$$\n",
    "What is the expectation of this function. (Show all your work)"
   ]
  },
  {
   "cell_type": "markdown",
   "metadata": {},
   "source": [
    "**Question 4:** What is the variance of a random variable $X$? Describe it first in words, and then use expectations to convert this description to an equation."
   ]
  },
  {
   "cell_type": "markdown",
   "metadata": {},
   "source": [
    "**Question 5:** Derive an expression for the variance of a Bernoulli random variable $X$, where the probability of $X$ taking the value 1 is $p_1$. "
   ]
  },
  {
   "cell_type": "markdown",
   "metadata": {},
   "source": [
    "**Question 6:**  What is a probability distribution? What does it mean to \"draw from a distribution\"? Explain in your own words. What kinds of distributions have you seen so far (in this course or elsewhere) that make sense to you?"
   ]
  },
  {
   "cell_type": "markdown",
   "metadata": {},
   "source": [
    "### The Randomized Response Protocol"
   ]
  },
  {
   "cell_type": "markdown",
   "metadata": {},
   "source": [
    "In this section, you will set up a Bernoulli random variable that simulates a Randomized Response protocol. Assume that the probability of the spinner landing in the RED area is $p_1$. Assume that the proportion of people in the population who exhibit a certain (sensitive) property (which we're trying to estimate) is $\\pi$. Consult the documentation in [*scipy.stats*](https://docs.scipy.org/doc/scipy-0.14.0/reference/generated/scipy.stats.bernoulli.html) to understand how to draw from a specific Bernoulli distribution."
   ]
  },
  {
   "cell_type": "code",
   "execution_count": null,
   "metadata": {
    "collapsed": true
   },
   "outputs": [],
   "source": [
    "from scipy.stats import bernoulli\n",
    "import matplotlib.pyplot as plt\n",
    "import numpy as np"
   ]
  },
  {
   "cell_type": "markdown",
   "metadata": {},
   "source": [
    "We will consider the following (supposedly sensitive) question:\n",
    "> Do you always pay your taxes?\n",
    "\n",
    "We start by constructing a (hypothetical) array of true responses (that we've magically managed to somehow get access to) in a population of 10,000 people. We do this by sampling from a Bernoulli distribution (but we could have done something else), it's just a set of true answers given by 10,000 people. We are interested in approximating (or estimating) the proportion of people in this population who answered \"Yes\""
   ]
  },
  {
   "cell_type": "code",
   "execution_count": null,
   "metadata": {
    "collapsed": false
   },
   "outputs": [],
   "source": [
    "true_responses_population = bernoulli.rvs(0.20, size=100000)"
   ]
  },
  {
   "cell_type": "code",
   "execution_count": null,
   "metadata": {
    "collapsed": false
   },
   "outputs": [],
   "source": [
    "# The proportion who do not pay their taxes in this population\n",
    "pi = sum(true_responses_population)/len(true_responses_population)\n",
    "print(pi)"
   ]
  },
  {
   "cell_type": "markdown",
   "metadata": {},
   "source": [
    "This quantity ($\\pi$) above is the one we're trying to estimate."
   ]
  },
  {
   "cell_type": "markdown",
   "metadata": {},
   "source": [
    "#### Task 1: Sample 1000 different responses (and therefore people) from the population."
   ]
  },
  {
   "cell_type": "code",
   "execution_count": null,
   "metadata": {
    "collapsed": true
   },
   "outputs": [],
   "source": [
    "sample_true_responses = "
   ]
  },
  {
   "cell_type": "markdown",
   "metadata": {},
   "source": [
    "#### **Task 2: Simulating the RR protocol**.\n",
    "Write a function that takes in $p1$, the probability of the spinner landing on the RED area, and a true response (**true_resp**) of a person as a parameter, and returns the answer according to the RR protocol."
   ]
  },
  {
   "cell_type": "code",
   "execution_count": null,
   "metadata": {
    "collapsed": false
   },
   "outputs": [],
   "source": [
    "\n",
    "def rr(p1, true_resp):\n",
    "    # fill in details here\n",
    "    "
   ]
  },
  {
   "cell_type": "markdown",
   "metadata": {},
   "source": [
    "#### Task 3: Simulating the RR protocol on the entire sample.\n",
    "Now, run the RR protocol defined above on each of the 1000 people sampled  in **sample_true_responses**. Start off by using $p1 = 0.9$. Store all the  RR responses of the 1000 people in a separate array/list. Compute $\\hat{\\pi}$ for this sample (which is an estimate of $\\pi$), by computing the proportion of people whose RR responses were \"YES\" from this array."
   ]
  },
  {
   "cell_type": "code",
   "execution_count": null,
   "metadata": {
    "collapsed": false
   },
   "outputs": [],
   "source": []
  },
  {
   "cell_type": "markdown",
   "metadata": {},
   "source": [
    "### Evaluate the impact of different values of $p1$.\n",
    "\n",
    "For this section, you will first empirically (that is, in practice) compute the mean and variance of the estimator (the quantity you computed in the previous task). We'll split it into several tasks.\n",
    "\n",
    "#### Task 4 : Setting up an experiment to repeat\n",
    "\n",
    "First, to help us create an efficient pipeline, write a function that takes in four *arguments*:\n",
    "- `pop_true_resp`, the true responses of the population. \n",
    "- `n`, the number of people sampled from the population.\n",
    "- `p1`, the probability of the spinner landing on RED.\n",
    "- `m`, the number of times the RR protocol is run to compute $\\hat{\\pi}$.\n",
    "\n",
    "For each of the m times the function samples n number of people from the population, runs a RR protocol on each of those n people to compute $\\hat{\\pi}$ on this set.\n",
    "It *returns* a list (or array) of the m different estimates of $\\pi$, call it **pihat_list**.\n"
   ]
  },
  {
   "cell_type": "code",
   "execution_count": null,
   "metadata": {
    "collapsed": false
   },
   "outputs": [],
   "source": [
    "def estimate_pi(pop_true_resp, n, p1, m):\n",
    "    pihat_list = []\n",
    "    \n",
    "    for i in range(m):\n",
    "        # fill in details\n",
    "    \n",
    "    return pihat_list\n",
    "        "
   ]
  },
  {
   "cell_type": "markdown",
   "metadata": {},
   "source": [
    "#### Task 5 Compute the mean and variance of a list of estimates.\n",
    "\n",
    "To begin with, invoke the function you wrote similar to the following:\n",
    "\n",
    "`pihat_pt_9 = estimate_pi(true_responses_population, 1000, 0.9, 100)`\n",
    "\n",
    "Make sure you understand what this line of code is doing. Then compute the average and variance of the values in `pihat_pt_9`. Finally, plot a distribution of these estimates (Hint: use the `distplot` function in the `seaborn` package)."
   ]
  },
  {
   "cell_type": "markdown",
   "metadata": {},
   "source": [
    " "
   ]
  },
  {
   "cell_type": "markdown",
   "metadata": {},
   "source": [
    "#### Task 6: Compare the list of $\\hat{\\pi}$'s to $\\pi$.\n",
    "\n",
    "Task 5 computes the mean and variance of the list of estimates, but it does not compare it to the real proportion of non-tax payers ($pi$). To do so, we make use of a metric called the Mean Square Error (MSE). First write a definition of MSE, and the compute the MSE between the list of $\\hat{\\pi}$s and $\\pi$.\n",
    "\n",
    "Comment on the MSE of the list of estimates, their mean and variance, and the distribution of the list of estimates in comparison to the real $\\pi$, the proportion of non-tax payers. Repeat the task with a different $p1$ (say p1 = 0.95) and compute the mean, variance and MSE of this new list, showing the distribution. Which set of estimates is more accurate and why?"
   ]
  },
  {
   "cell_type": "markdown",
   "metadata": {},
   "source": [
    "#### Task 7  Assessing the impact of p1.\n",
    "\n",
    "Repeat tasks 5 and 6, for values of p1 ranging from 1 to 0.5 (with an increment of say 0.05). For each of these values store the associated means, variances, and MSEs in appropriate variables, and display these values in a table. What can you conclude from this table?"
   ]
  },
  {
   "cell_type": "code",
   "execution_count": null,
   "metadata": {
    "collapsed": true
   },
   "outputs": [],
   "source": []
  }
 ],
 "metadata": {
  "kernelspec": {
   "display_name": "Python 3",
   "language": "python",
   "name": "python3"
  },
  "language_info": {
   "codemirror_mode": {
    "name": "ipython",
    "version": 3
   },
   "file_extension": ".py",
   "mimetype": "text/x-python",
   "name": "python",
   "nbconvert_exporter": "python",
   "pygments_lexer": "ipython3",
   "version": "3.5.2"
  }
 },
 "nbformat": 4,
 "nbformat_minor": 2
}
